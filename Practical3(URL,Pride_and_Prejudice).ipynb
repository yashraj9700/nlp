{
  "nbformat": 4,
  "nbformat_minor": 0,
  "metadata": {
    "colab": {
      "provenance": []
    },
    "kernelspec": {
      "name": "python3",
      "display_name": "Python 3"
    },
    "language_info": {
      "name": "python"
    }
  },
  "cells": [
    {
      "cell_type": "code",
      "execution_count": null,
      "metadata": {
        "colab": {
          "base_uri": "https://localhost:8080/"
        },
        "id": "0PxtiU9JsmiV",
        "outputId": "9a4d99f0-6321-42f1-c0f3-ed27500afbfa"
      },
      "outputs": [
        {
          "output_type": "stream",
          "name": "stderr",
          "text": [
            "[nltk_data] Downloading package punkt_tab to /root/nltk_data...\n",
            "[nltk_data]   Unzipping tokenizers/punkt_tab.zip.\n"
          ]
        },
        {
          "output_type": "stream",
          "name": "stdout",
          "text": [
            "['*', '*', '*', 'START', 'OF', 'THE', 'PROJECT', 'GUTENBERG', 'EBOOK', '1342']\n"
          ]
        }
      ],
      "source": [
        "#1  Write a Python program to download the text of \"Pride and Prejudice\" by Jane Austen from Project Gutenberg, tokenize the text, and display the first 10 tokens.\n",
        "import nltk\n",
        "nltk.download('punkt_tab')\n",
        "import requests\n",
        "from nltk.tokenize import word_tokenize\n",
        "\n",
        "# Download the text\n",
        "url = \"https://www.gutenberg.org/files/1342/1342-0.txt\"\n",
        "response = requests.get(url)\n",
        "text = response.text\n",
        "\n",
        "# Tokenize the text\n",
        "tokens = word_tokenize(text)\n",
        "\n",
        "# Display the first 10 tokens\n",
        "print(tokens[:10])"
      ]
    },
    {
      "cell_type": "code",
      "source": [
        "#2 Using NLTK, write a function that takes a URL as input, fetches the raw text from the webpage, and returns the number of words in the text.\n",
        "import requests\n",
        "from nltk.tokenize import word_tokenize\n",
        "\n",
        "def count_words_in_webpage(url):\n",
        "    response = requests.get(url)\n",
        "    text = response.text\n",
        "    tokens = word_tokenize(text)\n",
        "    return len(tokens)\n",
        "\n",
        "# Example usage\n",
        "url = \"https://www.example.com\"\n",
        "print(count_words_in_webpage(url))\n"
      ],
      "metadata": {
        "colab": {
          "base_uri": "https://localhost:8080/"
        },
        "id": "r-DNza_fs-0c",
        "outputId": "c0aa26bb-33b0-4c7c-ddae-c4e570762077"
      },
      "execution_count": null,
      "outputs": [
        {
          "output_type": "stream",
          "name": "stdout",
          "text": [
            "263\n"
          ]
        }
      ]
    },
    {
      "cell_type": "code",
      "source": [
        "#Explain how to remove HTML tags from a web page's content using Python and NLTK. Provide a code example that fetches a web page, removes HTML tags, and prints the cleaned text.\n",
        "import requests\n",
        "from bs4 import BeautifulSoup\n",
        "from nltk.tokenize import word_tokenize\n",
        "\n",
        "def clean_webpage_text(url):\n",
        "    response = requests.get(url)\n",
        "    soup = BeautifulSoup(response.text, \"html.parser\")\n",
        "    cleaned_text = soup.get_text()\n",
        "    return cleaned_text\n",
        "\n",
        "# Example usage\n",
        "url = \"https://www.example.com\"\n",
        "cleaned_text = clean_webpage_text(url)\n",
        "print(cleaned_text)"
      ],
      "metadata": {
        "colab": {
          "base_uri": "https://localhost:8080/"
        },
        "id": "ROngmJ4KtORd",
        "outputId": "98109448-52aa-4658-b18f-af757b6b0dad"
      },
      "execution_count": null,
      "outputs": [
        {
          "output_type": "stream",
          "name": "stdout",
          "text": [
            "\n",
            "\n",
            "\n",
            "Example Domain\n",
            "\n",
            "\n",
            "\n",
            "\n",
            "\n",
            "\n",
            "\n",
            "Example Domain\n",
            "This domain is for use in illustrative examples in documents. You may use this\n",
            "    domain in literature without prior coordination or asking for permission.\n",
            "More information...\n",
            "\n",
            "\n",
            "\n",
            "\n"
          ]
        }
      ]
    }
  ]
}