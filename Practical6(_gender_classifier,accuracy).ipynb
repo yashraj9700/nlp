{
  "nbformat": 4,
  "nbformat_minor": 0,
  "metadata": {
    "colab": {
      "provenance": []
    },
    "kernelspec": {
      "name": "python3",
      "display_name": "Python 3"
    },
    "language_info": {
      "name": "python"
    }
  },
  "cells": [
    {
      "cell_type": "code",
      "execution_count": null,
      "metadata": {
        "colab": {
          "base_uri": "https://localhost:8080/"
        },
        "id": "k4QX6BpEvk8C",
        "outputId": "ecfca0e3-f702-418e-94c5-7918e74f0a3c"
      },
      "outputs": [
        {
          "output_type": "stream",
          "name": "stdout",
          "text": [
            "Accuracy: 0.726\n"
          ]
        },
        {
          "output_type": "stream",
          "name": "stderr",
          "text": [
            "[nltk_data] Downloading package names to /root/nltk_data...\n",
            "[nltk_data]   Unzipping corpora/names.zip.\n"
          ]
        }
      ],
      "source": [
        "#1.Using the names corpus in NLTK, build a gender classifier that predicts whether a name is male orfemale based on the last letter of the name. Evaluate its accuracy.\n",
        "import nltk\n",
        "from nltk.corpus import names\n",
        "from collections import defaultdict\n",
        "import random\n",
        "\n",
        "nltk.download('names')\n",
        "\n",
        "# Prepare data\n",
        "labeled_names = ([(name, 'male') for name in names.words('male.txt')] +\n",
        "                 [(name, 'female') for name in names.words('female.txt')])\n",
        "random.shuffle(labeled_names)\n",
        "\n",
        "# Feature extractor: last letter\n",
        "def gender_features(word):\n",
        "    return {'last_letter': word[-1]}\n",
        "\n",
        "# Extract features\n",
        "featuresets = [(gender_features(n), gender) for (n, gender) in labeled_names]\n",
        "train_set, test_set = featuresets[500:], featuresets[:500]\n",
        "\n",
        "# Train and evaluate\n",
        "classifier = nltk.NaiveBayesClassifier.train(train_set)\n",
        "print(\"Accuracy:\", nltk.classify.accuracy(classifier, test_set))\n"
      ]
    },
    {
      "cell_type": "code",
      "source": [
        "#2. Enhance the gender classifier by including features such as the first letter and the length of the name.Evaluate if these features improve the classifier's accuracy.\n",
        "def gender_features_enhanced(name):\n",
        "    features = {\n",
        "        'last_letter': name[-1],\n",
        "        'first_letter': name[0],\n",
        "        'length': len(name)\n",
        "    }\n",
        "    return features\n",
        "\n",
        "# Extract enhanced features\n",
        "featuresets = [(gender_features_enhanced(n), gender) for (n, gender) in labeled_names]\n",
        "train_set, test_set = featuresets[500:], featuresets[:500]\n",
        "\n",
        "# Train and evaluate\n",
        "classifier = nltk.NaiveBayesClassifier.train(train_set)\n",
        "print(\"Enhanced Accuracy:\", nltk.classify.accuracy(classifier, test_set))\n"
      ],
      "metadata": {
        "colab": {
          "base_uri": "https://localhost:8080/"
        },
        "id": "10OZgJakv-5H",
        "outputId": "d9916bc4-8355-497f-fb91-16c50e9417ee"
      },
      "execution_count": null,
      "outputs": [
        {
          "output_type": "stream",
          "name": "stdout",
          "text": [
            "Enhanced Accuracy: 0.758\n"
          ]
        }
      ]
    },
    {
      "cell_type": "code",
      "source": [
        "#3. Using the movie_reviews corpus in NLTK, build a document classifier to categorize movie reviews aspositive or negative. Evaluate its performance.\n",
        "from nltk.corpus import movie_reviews\n",
        "nltk.download('movie_reviews')\n",
        "\n",
        "documents = [(list(movie_reviews.words(fileid)), category)\n",
        "             for category in movie_reviews.categories()\n",
        "             for fileid in movie_reviews.fileids(category)]\n",
        "random.shuffle(documents)\n",
        "\n",
        "all_words = nltk.FreqDist(w.lower() for w in movie_reviews.words())\n",
        "word_features = list(all_words)[:2000]\n",
        "\n",
        "def document_features(document):\n",
        "    document_words = set(document)\n",
        "    features = {}\n",
        "    for word in word_features:\n",
        "        features[f'contains({word})'] = (word in document_words)\n",
        "    return features\n",
        "\n",
        "featuresets = [(document_features(d), c) for (d, c) in documents]\n",
        "train_set, test_set = featuresets[:1500], featuresets[1500:]\n",
        "\n",
        "classifier = nltk.NaiveBayesClassifier.train(train_set)\n",
        "print(\"Review Classifier Accuracy:\", nltk.classify.accuracy(classifier, test_set))"
      ],
      "metadata": {
        "colab": {
          "base_uri": "https://localhost:8080/"
        },
        "id": "ilVGiN-UwBOW",
        "outputId": "4e1e0f2d-60ee-4571-bbae-73ac917c40c7"
      },
      "execution_count": null,
      "outputs": [
        {
          "output_type": "stream",
          "name": "stderr",
          "text": [
            "[nltk_data] Downloading package movie_reviews to /root/nltk_data...\n",
            "[nltk_data]   Unzipping corpora/movie_reviews.zip.\n"
          ]
        },
        {
          "output_type": "stream",
          "name": "stdout",
          "text": [
            "Review Classifier Accuracy: 0.794\n"
          ]
        }
      ]
    }
  ]
}