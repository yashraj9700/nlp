{
  "nbformat": 4,
  "nbformat_minor": 0,
  "metadata": {
    "colab": {
      "provenance": []
    },
    "kernelspec": {
      "name": "python3",
      "display_name": "Python 3"
    },
    "language_info": {
      "name": "python"
    }
  },
  "cells": [
    {
      "cell_type": "code",
      "execution_count": null,
      "metadata": {
        "colab": {
          "base_uri": "https://localhost:8080/"
        },
        "id": "1xHW7524vAIu",
        "outputId": "bb8bceb0-4270-4203-c725-f99d12d34f4b"
      },
      "outputs": [
        {
          "output_type": "stream",
          "name": "stderr",
          "text": [
            "[nltk_data] Downloading package punkt_tab to /root/nltk_data...\n",
            "[nltk_data]   Unzipping tokenizers/punkt_tab.zip.\n",
            "[nltk_data] Downloading package punkt to /root/nltk_data...\n",
            "[nltk_data]   Unzipping tokenizers/punkt.zip.\n",
            "[nltk_data] Downloading package averaged_perceptron_tagger_eng to\n",
            "[nltk_data]     /root/nltk_data...\n",
            "[nltk_data]   Unzipping taggers/averaged_perceptron_tagger_eng.zip.\n"
          ]
        },
        {
          "output_type": "stream",
          "name": "stdout",
          "text": [
            "[('The', 'DT'), ('quick', 'JJ'), ('brown', 'NN'), ('fox', 'NN'), ('jumps', 'VBZ'), ('over', 'IN'), ('the', 'DT'), ('lazy', 'JJ'), ('dog', 'NN'), ('.', '.')]\n"
          ]
        }
      ],
      "source": [
        "#1 Write a Python program using NLTK to perform part-of-speech tagging on the sentence: \"The quick brown fox jumps over the lazy dog.\"\n",
        "\n",
        "import nltk\n",
        "from nltk import pos_tag, word_tokenize\n",
        "nltk.download('punkt_tab')\n",
        "\n",
        "# Download necessary NLTK data\n",
        "nltk.download('punkt')\n",
        "nltk.download('averaged_perceptron_tagger_eng')\n",
        "\n",
        "# Sentence to tag\n",
        "sentence = \"The quick brown fox jumps over the lazy dog.\"\n",
        "\n",
        "# Tokenize and tag\n",
        "tokens = word_tokenize(sentence)\n",
        "tagged = pos_tag(tokens)\n",
        "\n",
        "print(tagged)"
      ]
    },
    {
      "cell_type": "code",
      "source": [
        "#2. Using NLTK, write a function that takes a list of sentences and returns a list of part-of-speech tagged sentences.\n",
        "\n",
        "def tag_sentences(sentences):\n",
        "    tagged_sentences = [pos_tag(word_tokenize(sentence)) for sentence in sentences]\n",
        "    return tagged_sentences\n",
        "\n",
        "# Example usage\n",
        "sentences = [\"The cat is on the mat.\", \"Dogs are great companions.\"]\n",
        "print(tag_sentences(sentences))"
      ],
      "metadata": {
        "colab": {
          "base_uri": "https://localhost:8080/"
        },
        "id": "yGGJEsSCvKzk",
        "outputId": "603844bf-7d10-4220-bf83-e3441c708c0f"
      },
      "execution_count": null,
      "outputs": [
        {
          "output_type": "stream",
          "name": "stdout",
          "text": [
            "[[('The', 'DT'), ('cat', 'NN'), ('is', 'VBZ'), ('on', 'IN'), ('the', 'DT'), ('mat', 'NN'), ('.', '.')], [('Dogs', 'NNS'), ('are', 'VBP'), ('great', 'JJ'), ('companions', 'NNS'), ('.', '.')]]\n"
          ]
        }
      ]
    },
    {
      "cell_type": "code",
      "source": [
        "#3.Explain how to map the Penn Treebank POS tags to the Universal POS tags using NLTK. Provide a code example that tags a sentence and maps the tags accordingly.\n",
        "\n",
        "from nltk import pos_tag, word_tokenize\n",
        "from nltk.corpus import wordnet\n",
        "from nltk import map_tag\n",
        "\n",
        "# Download necessary NLTK data\n",
        "nltk.download('universal_tagset')\n",
        "\n",
        "# Sentence to tag\n",
        "sentence = \"The quick brown fox jumps over the lazy dog.\"\n",
        "\n",
        "# Tokenize and tag\n",
        "tokens = word_tokenize(sentence)\n",
        "tagged = pos_tag(tokens)\n",
        "\n",
        "# Map Penn Treebank tags to Universal POS tags\n",
        "universal_tags = [(word, map_tag('en-ptb', 'universal', tag)) for word, tag in tagged]\n",
        "\n",
        "print(universal_tags)"
      ],
      "metadata": {
        "colab": {
          "base_uri": "https://localhost:8080/"
        },
        "id": "6lnVe0oYvScJ",
        "outputId": "0e3d6235-385f-42f2-f0a1-08f83b353372"
      },
      "execution_count": null,
      "outputs": [
        {
          "output_type": "stream",
          "name": "stdout",
          "text": [
            "[('The', 'DET'), ('quick', 'ADJ'), ('brown', 'NOUN'), ('fox', 'NOUN'), ('jumps', 'VERB'), ('over', 'ADP'), ('the', 'DET'), ('lazy', 'ADJ'), ('dog', 'NOUN'), ('.', '.')]\n"
          ]
        },
        {
          "output_type": "stream",
          "name": "stderr",
          "text": [
            "[nltk_data] Downloading package universal_tagset to /root/nltk_data...\n",
            "[nltk_data]   Unzipping taggers/universal_tagset.zip.\n"
          ]
        }
      ]
    }
  ]
}