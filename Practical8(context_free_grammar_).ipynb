{
  "nbformat": 4,
  "nbformat_minor": 0,
  "metadata": {
    "colab": {
      "provenance": []
    },
    "kernelspec": {
      "name": "python3",
      "display_name": "Python 3"
    },
    "language_info": {
      "name": "python"
    }
  },
  "cells": [
    {
      "cell_type": "code",
      "source": [
        "#1. Write a Python program using NLTK to define a context-free grammar (CFG) that can parse simple sentences like \"The cat sat on the mat.\" Use this grammar to generate the parse tree for the sentence.\n",
        "\n",
        "import nltk\n",
        "from nltk import CFG\n",
        "\n",
        "# Define a context-free grammar\n",
        "grammar = CFG.fromstring(\"\"\"\n",
        "    S -> NP VP\n",
        "    NP -> Det N\n",
        "    VP -> V PP | V\n",
        "    PP -> P NP\n",
        "    Det -> 'The' | 'the'\n",
        "    N -> 'cat' | 'mat' | 'dog'\n",
        "    V -> 'sat' | 'jumps'\n",
        "    P -> 'on' | 'over'\n",
        "\"\"\")\n",
        "\n",
        "# Input sentence\n",
        "sentence = \"The cat sat on the mat\"\n",
        "\n",
        "# Tokenize the sentence\n",
        "words = sentence.split()\n",
        "\n",
        "# Create a parser\n",
        "parser = nltk.ChartParser(grammar)\n",
        "\n",
        "# Generate and display the parse tree\n",
        "for tree in parser.parse(words):\n",
        "    print(tree)\n",
        "    tree.pretty_print()"
      ],
      "metadata": {
        "colab": {
          "base_uri": "https://localhost:8080/"
        },
        "id": "qFpUvq-HyOvW",
        "outputId": "d5f687ee-ab31-41f8-f9ae-4cf0340bee49"
      },
      "execution_count": null,
      "outputs": [
        {
          "output_type": "stream",
          "name": "stdout",
          "text": [
            "(S\n",
            "  (NP (Det The) (N cat))\n",
            "  (VP (V sat) (PP (P on) (NP (Det the) (N mat)))))\n",
            "             S                     \n",
            "      _______|_______               \n",
            "     |               VP            \n",
            "     |        _______|___           \n",
            "     |       |           PP        \n",
            "     |       |    _______|___       \n",
            "     NP      |   |           NP    \n",
            "  ___|___    |   |        ___|___   \n",
            "Det      N   V   P      Det      N \n",
            " |       |   |   |       |       |  \n",
            "The     cat sat  on     the     mat\n",
            "\n"
          ]
        }
      ]
    },
    {
      "cell_type": "code",
      "execution_count": null,
      "metadata": {
        "colab": {
          "base_uri": "https://localhost:8080/"
        },
        "id": "TyThR2BlyOCg",
        "outputId": "0549bb0a-ceff-4929-d95e-2daadd5bb60f"
      },
      "outputs": [
        {
          "output_type": "stream",
          "name": "stdout",
          "text": [
            "2\n",
            "         S                                    \n",
            "    _____|___________                          \n",
            "   |                 VP                       \n",
            "   |      ___________|________                 \n",
            "   |     |       |            PP              \n",
            "   |     |       |        ____|___             \n",
            "   NP    |       NP      |        NP          \n",
            "   |     |    ___|___    |     ___|______      \n",
            "Pronoun  V  Det      N   P   Det         N    \n",
            "   |     |   |       |   |    |          |     \n",
            "   I    saw the     man with the     telescope\n",
            "\n",
            "         S                                \n",
            "    _____|_______                          \n",
            "   |             VP                       \n",
            "   |      _______|___                      \n",
            "   |     |           NP                   \n",
            "   |     |    _______|____                 \n",
            "   |     |   |   |        PP              \n",
            "   |     |   |   |    ____|___             \n",
            "   NP    |   |   |   |        NP          \n",
            "   |     |   |   |   |     ___|______      \n",
            "Pronoun  V  Det  N   P   Det         N    \n",
            "   |     |   |   |   |    |          |     \n",
            "   I    saw the man with the     telescope\n",
            "\n"
          ]
        }
      ],
      "source": [
        "#2. Using NLTK, write a function that takes a sentence as input and returns all possible parse trees using\n",
        "# given CFG. Demonstrate this function with the sentence \"I saw the man with the telescope.\"\n",
        "import nltk\n",
        "from nltk import CFG\n",
        "\n",
        "# Define a context-free grammar (CFG) for possible sentence structures\n",
        "grammar = CFG.fromstring(\"\"\"\n",
        "    S -> NP VP\n",
        "    NP -> Pronoun | Det N | Det N PP\n",
        "    VP -> V NP | V NP PP\n",
        "    PP -> P NP\n",
        "    Pronoun -> 'I'\n",
        "    Det -> 'the'\n",
        "    N -> 'man' | 'telescope'\n",
        "    V -> 'saw'\n",
        "    P -> 'with'\n",
        "\"\"\")\n",
        "\n",
        "# Function to get all possible parse trees for a sentence\n",
        "def get_parse_trees(sentence, grammar):\n",
        "    parser = nltk.ChartParser(grammar)\n",
        "    return list(parser.parse(sentence))  # Returns all possible parse trees\n",
        "\n",
        "# Sentence to parse\n",
        "sentence = ['I', 'saw', 'the', 'man', 'with', 'the', 'telescope']\n",
        "\n",
        "# Get all possible parse trees\n",
        "parse_trees = get_parse_trees(sentence, grammar)\n",
        "print(len(parse_trees))\n",
        "# Display each parse tree\n",
        "for tree in parse_trees:\n",
        "    tree.pretty_print()\n"
      ]
    },
    {
      "cell_type": "code",
      "source": [
        "#3. Write a Python program using NLTK to create a recursive descent parser for a given CFG. Parse the sentence \"She eats a sandwich.\" and display the parse tree.\n",
        "\n",
        "from nltk import RecursiveDescentParser\n",
        "\n",
        "# Define a CFG\n",
        "grammar = CFG.fromstring(\"\"\"\n",
        "    S -> NP VP\n",
        "    NP -> Det N | 'She'\n",
        "    VP -> V NP\n",
        "    Det -> 'a'\n",
        "    N -> 'sandwich'\n",
        "    V -> 'eats'\n",
        "\"\"\")\n",
        "\n",
        "# Create a recursive descent parser\n",
        "parser = RecursiveDescentParser(grammar)\n",
        "\n",
        "# Input sentence\n",
        "sentence = \"She eats a sandwich\"\n",
        "\n",
        "# Parse the sentence\n",
        "for tree in parser.parse(sentence.split()):\n",
        "    print(tree)\n",
        "    tree.pretty_print()"
      ],
      "metadata": {
        "colab": {
          "base_uri": "https://localhost:8080/"
        },
        "id": "LPrIUApByxAY",
        "outputId": "f500dca8-e3f7-4c15-b238-9714f29872a8"
      },
      "execution_count": null,
      "outputs": [
        {
          "output_type": "stream",
          "name": "stdout",
          "text": [
            "(S (NP She) (VP (V eats) (NP (Det a) (N sandwich))))\n",
            "          S                  \n",
            "  ________|___                \n",
            " |            VP             \n",
            " |    ________|___            \n",
            " |   |            NP         \n",
            " |   |         ___|_____      \n",
            " NP  V       Det        N    \n",
            " |   |        |         |     \n",
            "She eats      a      sandwich\n",
            "\n"
          ]
        }
      ]
    }
  ]
}